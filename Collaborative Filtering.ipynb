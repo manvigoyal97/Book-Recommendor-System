{
 "cells": [
  {
   "cell_type": "code",
   "execution_count": 54,
   "id": "314ef6fc",
   "metadata": {},
   "outputs": [],
   "source": [
    "import pandas as pd\n",
    "import numpy as np\n",
    "import seaborn as sns\n",
    "import matplotlib.pyplot as plt\n",
    "from scipy import sparse\n",
    "from sklearn.metrics.pairwise import cosine_similarity\n",
    "# import turicreate as tc  # Only Mac/Linux\n",
    "from scipy.sparse.linalg import svds"
   ]
  },
  {
   "cell_type": "code",
   "execution_count": 2,
   "id": "0aa8f964",
   "metadata": {},
   "outputs": [],
   "source": [
    "ratings = pd.read_csv('ratings.csv')\n",
    "books = pd.read_csv('books_enriched.csv', index_col = 'book_id')"
   ]
  },
  {
   "cell_type": "code",
   "execution_count": 3,
   "id": "ea650c4d",
   "metadata": {},
   "outputs": [],
   "source": [
    "ratings = ratings[ratings['book_id'] <= 1000]"
   ]
  },
  {
   "cell_type": "code",
   "execution_count": 4,
   "id": "82e4991e",
   "metadata": {},
   "outputs": [
    {
     "data": {
      "text/html": [
       "<div>\n",
       "<style scoped>\n",
       "    .dataframe tbody tr th:only-of-type {\n",
       "        vertical-align: middle;\n",
       "    }\n",
       "\n",
       "    .dataframe tbody tr th {\n",
       "        vertical-align: top;\n",
       "    }\n",
       "\n",
       "    .dataframe thead th {\n",
       "        text-align: right;\n",
       "    }\n",
       "</style>\n",
       "<table border=\"1\" class=\"dataframe\">\n",
       "  <thead>\n",
       "    <tr style=\"text-align: right;\">\n",
       "      <th></th>\n",
       "      <th>user_id</th>\n",
       "      <th>book_id</th>\n",
       "      <th>rating</th>\n",
       "    </tr>\n",
       "  </thead>\n",
       "  <tbody>\n",
       "    <tr>\n",
       "      <th>0</th>\n",
       "      <td>1</td>\n",
       "      <td>258</td>\n",
       "      <td>5</td>\n",
       "    </tr>\n",
       "    <tr>\n",
       "      <th>2</th>\n",
       "      <td>2</td>\n",
       "      <td>260</td>\n",
       "      <td>5</td>\n",
       "    </tr>\n",
       "    <tr>\n",
       "      <th>5</th>\n",
       "      <td>2</td>\n",
       "      <td>26</td>\n",
       "      <td>4</td>\n",
       "    </tr>\n",
       "    <tr>\n",
       "      <th>6</th>\n",
       "      <td>2</td>\n",
       "      <td>315</td>\n",
       "      <td>3</td>\n",
       "    </tr>\n",
       "    <tr>\n",
       "      <th>7</th>\n",
       "      <td>2</td>\n",
       "      <td>33</td>\n",
       "      <td>4</td>\n",
       "    </tr>\n",
       "  </tbody>\n",
       "</table>\n",
       "</div>"
      ],
      "text/plain": [
       "   user_id  book_id  rating\n",
       "0        1      258       5\n",
       "2        2      260       5\n",
       "5        2       26       4\n",
       "6        2      315       3\n",
       "7        2       33       4"
      ]
     },
     "execution_count": 4,
     "metadata": {},
     "output_type": "execute_result"
    }
   ],
   "source": [
    "ratings.head()"
   ]
  },
  {
   "cell_type": "code",
   "execution_count": 5,
   "id": "380792aa",
   "metadata": {},
   "outputs": [
    {
     "data": {
      "text/plain": [
       "0"
      ]
     },
     "execution_count": 5,
     "metadata": {},
     "output_type": "execute_result"
    }
   ],
   "source": [
    "ratings.duplicated(['user_id','book_id','rating']).sum()\n",
    "# No duplicate ratings"
   ]
  },
  {
   "cell_type": "code",
   "execution_count": 6,
   "id": "a69ef4cf",
   "metadata": {},
   "outputs": [
    {
     "data": {
      "text/plain": [
       "user_id\n",
       "45554    173\n",
       "13879    172\n",
       "46139    172\n",
       "13925    171\n",
       "8440     167\n",
       "        ... \n",
       "32925      1\n",
       "52083      1\n",
       "39283      1\n",
       "10620      1\n",
       "23378      1\n",
       "Name: rating, Length: 53417, dtype: int64"
      ]
     },
     "execution_count": 6,
     "metadata": {},
     "output_type": "execute_result"
    }
   ],
   "source": [
    "# Ratings per users\n",
    "ratings.groupby(by = \"user_id\")[\"rating\"].count().sort_values(ascending = False)"
   ]
  },
  {
   "cell_type": "code",
   "execution_count": 7,
   "id": "c3edf59c",
   "metadata": {},
   "outputs": [
    {
     "data": {
      "text/plain": [
       "book_id\n",
       "1      22806\n",
       "2      21850\n",
       "4      19088\n",
       "3      16931\n",
       "5      16604\n",
       "       ...  \n",
       "524      386\n",
       "954      372\n",
       "845      332\n",
       "580      310\n",
       "990      278\n",
       "Name: rating, Length: 1000, dtype: int64"
      ]
     },
     "execution_count": 7,
     "metadata": {},
     "output_type": "execute_result"
    }
   ],
   "source": [
    "# Ratings per book\n",
    "ratings.groupby(by = \"book_id\")[\"rating\"].count().sort_values(ascending = False)"
   ]
  },
  {
   "cell_type": "code",
   "execution_count": 8,
   "id": "39d1e7f7",
   "metadata": {},
   "outputs": [
    {
     "data": {
      "text/plain": [
       "book_id\n",
       "1                              The Hunger Games\n",
       "2      Harry Potter and the Philosopher's Stone\n",
       "4                         To Kill a Mockingbird\n",
       "3                                      Twilight\n",
       "5                              The Great Gatsby\n",
       "17                                Catching Fire\n",
       "20                                   Mockingjay\n",
       "18     Harry Potter and the Prisoner of Azkaban\n",
       "23      Harry Potter and the Chamber of Secrets\n",
       "7            The Hobbit or There and Back Again\n",
       "24          Harry Potter and the Goblet of Fire\n",
       "25         Harry Potter and the Deathly Hallows\n",
       "21    Harry Potter and the Order of the Phoenix\n",
       "27       Harry Potter and the Half-Blood Prince\n",
       "13                         Nineteen Eighty-Four\n",
       "8                        The Catcher in the Rye\n",
       "16                        Män som hatar kvinnor\n",
       "14                   Animal Farm: A Fairy Story\n",
       "28                           Lord of the Flies \n",
       "9                              Angels & Demons \n",
       "Name: original_title, dtype: object"
      ]
     },
     "execution_count": 8,
     "metadata": {},
     "output_type": "execute_result"
    }
   ],
   "source": [
    "books.loc[ratings.groupby(by = \"book_id\")[\"rating\"].count().sort_values(ascending = False).index[:20], 'original_title']"
   ]
  },
  {
   "cell_type": "code",
   "execution_count": 9,
   "id": "328a33e6",
   "metadata": {},
   "outputs": [],
   "source": [
    "# Get sparse matrix - user_id in rows, book_id in cols, 0 if rating not present, else rating value\n",
    "def get_user_item_sparse_matrix(df):\n",
    "    sparse_data = sparse.csr_matrix((df.rating, (df.user_id, df.book_id)))\n",
    "    return sparse_data"
   ]
  },
  {
   "cell_type": "code",
   "execution_count": 10,
   "id": "560e1341",
   "metadata": {},
   "outputs": [],
   "source": [
    "sparse_ratings = get_user_item_sparse_matrix(ratings)"
   ]
  },
  {
   "cell_type": "code",
   "execution_count": 11,
   "id": "970033a6",
   "metadata": {},
   "outputs": [
    {
     "data": {
      "text/plain": [
       "3.9344739332834204"
      ]
     },
     "execution_count": 11,
     "metadata": {},
     "output_type": "execute_result"
    }
   ],
   "source": [
    "# Global average rating\n",
    "sparse_ratings.sum()/sparse_ratings.count_nonzero()"
   ]
  },
  {
   "cell_type": "code",
   "execution_count": 12,
   "id": "d8d3a045",
   "metadata": {},
   "outputs": [],
   "source": [
    "def get_average_rating(sparse_matrix, is_user):\n",
    "    ax = 1 if is_user else 0\n",
    "    sum_of_ratings = sparse_matrix.sum(axis = ax).A1  \n",
    "    no_of_ratings = (sparse_matrix != 0).sum(axis = ax).A1 \n",
    "    rows, cols = sparse_matrix.shape\n",
    "    average_ratings = {i: sum_of_ratings[i]/no_of_ratings[i] for i in range(rows if is_user else cols) if no_of_ratings[i] != 0}\n",
    "    return average_ratings"
   ]
  },
  {
   "cell_type": "code",
   "execution_count": 13,
   "id": "67d2fe28",
   "metadata": {},
   "outputs": [],
   "source": [
    "# Average Rating User\n",
    "average_rating_user = get_average_rating(sparse_ratings, True)"
   ]
  },
  {
   "cell_type": "code",
   "execution_count": 14,
   "id": "df572153",
   "metadata": {},
   "outputs": [],
   "source": [
    "# Average Rating Book\n",
    "avg_rating_book = get_average_rating(sparse_ratings, False)"
   ]
  },
  {
   "cell_type": "code",
   "execution_count": 15,
   "id": "6560a00f",
   "metadata": {},
   "outputs": [
    {
     "name": "stdout",
     "output_type": "stream",
     "text": [
      "Total no. of Users = 53417\n",
      "No. of Users in train data= 53417\n",
      "No. of Users not present in train data = 0(0.0%)\n"
     ]
    }
   ],
   "source": [
    "# # of users not present in data (no need to run this)\n",
    "total_users = len(np.unique(ratings[\"user_id\"]))\n",
    "train_users = len(average_rating_user)\n",
    "uncommonUsers = total_users - train_users\n",
    "                  \n",
    "print(\"Total no. of Users = {}\".format(total_users))\n",
    "print(\"No. of Users in train data= {}\".format(train_users))\n",
    "print(\"No. of Users not present in train data = {}({}%)\".format(uncommonUsers, np.round((uncommonUsers/total_users)*100), 2))"
   ]
  },
  {
   "cell_type": "code",
   "execution_count": 16,
   "id": "d8174394",
   "metadata": {},
   "outputs": [
    {
     "name": "stdout",
     "output_type": "stream",
     "text": [
      "Total no. of Books = 1000\n",
      "No. of Books in train data= 1000\n",
      "No. of Books not present in train data = 0(0.0%)\n"
     ]
    }
   ],
   "source": [
    "# # of books not present in data (no need to run this)\n",
    "total_books = len(np.unique(ratings[\"book_id\"]))\n",
    "train_books = len(avg_rating_book)\n",
    "uncommonBooks = total_books - train_books\n",
    "                  \n",
    "print(\"Total no. of Books = {}\".format(total_books))\n",
    "print(\"No. of Books in train data= {}\".format(train_books))\n",
    "print(\"No. of Books not present in train data = {}({}%)\".format(uncommonBooks, np.round((uncommonBooks/total_books)*100), 2))"
   ]
  },
  {
   "cell_type": "code",
   "execution_count": 17,
   "id": "5603f07a",
   "metadata": {},
   "outputs": [
    {
     "data": {
      "text/plain": [
       "matrix([[0, 0, 0, ..., 0, 0, 0],\n",
       "        [0, 0, 0, ..., 0, 0, 0],\n",
       "        [0, 0, 5, ..., 0, 0, 0],\n",
       "        ...,\n",
       "        [0, 4, 5, ..., 0, 0, 0],\n",
       "        [0, 4, 5, ..., 0, 0, 0],\n",
       "        [0, 4, 5, ..., 0, 0, 0]], dtype=int64)"
      ]
     },
     "execution_count": 17,
     "metadata": {},
     "output_type": "execute_result"
    }
   ],
   "source": [
    "sparse_ratings.todense()"
   ]
  },
  {
   "cell_type": "code",
   "execution_count": 25,
   "id": "a9fce5b9",
   "metadata": {},
   "outputs": [],
   "source": [
    "books_sim_corr = np.corrcoef(sparse_ratings.todense()[:,1:], rowvar = False)"
   ]
  },
  {
   "cell_type": "code",
   "execution_count": 26,
   "id": "baff02ec",
   "metadata": {},
   "outputs": [
    {
     "name": "stdout",
     "output_type": "stream",
     "text": [
      "Most similar books to : The Hunger Games based on correlation are:\n",
      "Catching Fire\n",
      "Mockingjay\n",
      "Twilight\n",
      "Divergent\n",
      "Harry Potter and the Philosopher's Stone\n"
     ]
    }
   ],
   "source": [
    "p = 0\n",
    "print('Most similar books to :',books.loc[p+1, 'original_title'],'based on correlation are:')\n",
    "for i in np.argsort(books_sim_corr[p])[-2:-7:-1]:\n",
    "    print(books.loc[i+1, 'original_title'])"
   ]
  },
  {
   "cell_type": "code",
   "execution_count": 27,
   "id": "fb63efa9",
   "metadata": {},
   "outputs": [
    {
     "name": "stdout",
     "output_type": "stream",
     "text": [
      "Most similar books to : Nineteen Eighty-Four based on correlation are:\n",
      "Animal Farm: A Fairy Story\n",
      "Brave New World\n",
      "Fahrenheit 451\n",
      "Lord of the Flies \n",
      "The Catcher in the Rye\n"
     ]
    }
   ],
   "source": [
    "p = 12\n",
    "print('Most similar books to :',books.loc[p+1, 'original_title'],'based on correlation are:')\n",
    "for i in np.argsort(books_sim_corr[p])[-2:-7:-1]:\n",
    "    print(books.loc[i+1, 'original_title'])"
   ]
  },
  {
   "cell_type": "code",
   "execution_count": 22,
   "id": "e98142b7",
   "metadata": {},
   "outputs": [
    {
     "name": "stderr",
     "output_type": "stream",
     "text": [
      "C:\\Users\\vishw\\anaconda3\\lib\\site-packages\\sklearn\\utils\\validation.py:727: FutureWarning: np.matrix usage is deprecated in 1.0 and will raise a TypeError in 1.2. Please convert to a numpy array with np.asarray. For more information see: https://numpy.org/doc/stable/reference/generated/numpy.matrix.html\n",
      "  warnings.warn(\n"
     ]
    }
   ],
   "source": [
    "books_sim_cos = cosine_similarity(sparse_ratings.todense().T)"
   ]
  },
  {
   "cell_type": "code",
   "execution_count": 23,
   "id": "feb007fe",
   "metadata": {},
   "outputs": [
    {
     "name": "stdout",
     "output_type": "stream",
     "text": [
      "Most similar books to : The Hunger Games based on cosine similarity are:\n",
      "Harry Potter and the Prisoner of Azkaban\n",
      "Harry Potter and the Order of the Phoenix\n",
      "Twilight\n",
      "To Kill a Mockingbird\n",
      "Nineteen Eighty-Four\n"
     ]
    }
   ],
   "source": [
    "p = 0\n",
    "print('Most similar books to :',books.loc[p+1, 'original_title'],'based on cosine similarity are:')\n",
    "for i in np.argsort(books_sim_cos[p+1])[-2:-7:-1]:\n",
    "    print(books.loc[i+1, 'original_title'])"
   ]
  },
  {
   "cell_type": "code",
   "execution_count": 24,
   "id": "c1f9f648",
   "metadata": {},
   "outputs": [
    {
     "name": "stdout",
     "output_type": "stream",
     "text": [
      "Most similar books to : Nineteen Eighty-Four based on cosine similarity are:\n",
      "Het Achterhuis: Dagboekbrieven 14 juni 1942 - 1 augustus 1944\n",
      "Breaking Dawn\n",
      "Angels & Demons \n",
      "An Excellent conceited Tragedie of Romeo and Juliet\n",
      "The Fault in Our Stars\n"
     ]
    }
   ],
   "source": [
    "p = 12\n",
    "print('Most similar books to :',books.loc[p+1, 'original_title'],'based on cosine similarity are:')\n",
    "for i in np.argsort(books_sim_cos[p+1])[-2:-7:-1]:\n",
    "    print(books.loc[i+1, 'original_title'])"
   ]
  },
  {
   "cell_type": "code",
   "execution_count": 88,
   "id": "d09b15f7",
   "metadata": {},
   "outputs": [
    {
     "data": {
      "text/html": [
       "<div>\n",
       "<style scoped>\n",
       "    .dataframe tbody tr th:only-of-type {\n",
       "        vertical-align: middle;\n",
       "    }\n",
       "\n",
       "    .dataframe tbody tr th {\n",
       "        vertical-align: top;\n",
       "    }\n",
       "\n",
       "    .dataframe thead th {\n",
       "        text-align: right;\n",
       "    }\n",
       "</style>\n",
       "<table border=\"1\" class=\"dataframe\">\n",
       "  <thead>\n",
       "    <tr style=\"text-align: right;\">\n",
       "      <th>book_id</th>\n",
       "      <th>1</th>\n",
       "      <th>2</th>\n",
       "      <th>3</th>\n",
       "      <th>4</th>\n",
       "      <th>5</th>\n",
       "      <th>6</th>\n",
       "      <th>7</th>\n",
       "      <th>8</th>\n",
       "      <th>9</th>\n",
       "      <th>10</th>\n",
       "      <th>...</th>\n",
       "      <th>991</th>\n",
       "      <th>992</th>\n",
       "      <th>993</th>\n",
       "      <th>994</th>\n",
       "      <th>995</th>\n",
       "      <th>996</th>\n",
       "      <th>997</th>\n",
       "      <th>998</th>\n",
       "      <th>999</th>\n",
       "      <th>1000</th>\n",
       "    </tr>\n",
       "    <tr>\n",
       "      <th>user_id</th>\n",
       "      <th></th>\n",
       "      <th></th>\n",
       "      <th></th>\n",
       "      <th></th>\n",
       "      <th></th>\n",
       "      <th></th>\n",
       "      <th></th>\n",
       "      <th></th>\n",
       "      <th></th>\n",
       "      <th></th>\n",
       "      <th></th>\n",
       "      <th></th>\n",
       "      <th></th>\n",
       "      <th></th>\n",
       "      <th></th>\n",
       "      <th></th>\n",
       "      <th></th>\n",
       "      <th></th>\n",
       "      <th></th>\n",
       "      <th></th>\n",
       "      <th></th>\n",
       "    </tr>\n",
       "  </thead>\n",
       "  <tbody>\n",
       "    <tr>\n",
       "      <th>1</th>\n",
       "      <td>0.0</td>\n",
       "      <td>0.0</td>\n",
       "      <td>0.0</td>\n",
       "      <td>5.0</td>\n",
       "      <td>0.0</td>\n",
       "      <td>0.0</td>\n",
       "      <td>0.0</td>\n",
       "      <td>0.0</td>\n",
       "      <td>0.0</td>\n",
       "      <td>4.0</td>\n",
       "      <td>...</td>\n",
       "      <td>0.0</td>\n",
       "      <td>0.0</td>\n",
       "      <td>0.0</td>\n",
       "      <td>0.0</td>\n",
       "      <td>0.0</td>\n",
       "      <td>0.0</td>\n",
       "      <td>0.0</td>\n",
       "      <td>0.0</td>\n",
       "      <td>0.0</td>\n",
       "      <td>0.0</td>\n",
       "    </tr>\n",
       "    <tr>\n",
       "      <th>2</th>\n",
       "      <td>0.0</td>\n",
       "      <td>5.0</td>\n",
       "      <td>0.0</td>\n",
       "      <td>0.0</td>\n",
       "      <td>5.0</td>\n",
       "      <td>0.0</td>\n",
       "      <td>0.0</td>\n",
       "      <td>4.0</td>\n",
       "      <td>0.0</td>\n",
       "      <td>5.0</td>\n",
       "      <td>...</td>\n",
       "      <td>0.0</td>\n",
       "      <td>0.0</td>\n",
       "      <td>0.0</td>\n",
       "      <td>0.0</td>\n",
       "      <td>0.0</td>\n",
       "      <td>0.0</td>\n",
       "      <td>0.0</td>\n",
       "      <td>0.0</td>\n",
       "      <td>0.0</td>\n",
       "      <td>0.0</td>\n",
       "    </tr>\n",
       "    <tr>\n",
       "      <th>3</th>\n",
       "      <td>0.0</td>\n",
       "      <td>0.0</td>\n",
       "      <td>0.0</td>\n",
       "      <td>3.0</td>\n",
       "      <td>0.0</td>\n",
       "      <td>0.0</td>\n",
       "      <td>0.0</td>\n",
       "      <td>0.0</td>\n",
       "      <td>0.0</td>\n",
       "      <td>0.0</td>\n",
       "      <td>...</td>\n",
       "      <td>0.0</td>\n",
       "      <td>0.0</td>\n",
       "      <td>0.0</td>\n",
       "      <td>0.0</td>\n",
       "      <td>0.0</td>\n",
       "      <td>0.0</td>\n",
       "      <td>0.0</td>\n",
       "      <td>0.0</td>\n",
       "      <td>0.0</td>\n",
       "      <td>0.0</td>\n",
       "    </tr>\n",
       "    <tr>\n",
       "      <th>4</th>\n",
       "      <td>0.0</td>\n",
       "      <td>5.0</td>\n",
       "      <td>0.0</td>\n",
       "      <td>4.0</td>\n",
       "      <td>4.0</td>\n",
       "      <td>0.0</td>\n",
       "      <td>4.0</td>\n",
       "      <td>4.0</td>\n",
       "      <td>0.0</td>\n",
       "      <td>5.0</td>\n",
       "      <td>...</td>\n",
       "      <td>0.0</td>\n",
       "      <td>0.0</td>\n",
       "      <td>0.0</td>\n",
       "      <td>0.0</td>\n",
       "      <td>0.0</td>\n",
       "      <td>0.0</td>\n",
       "      <td>0.0</td>\n",
       "      <td>0.0</td>\n",
       "      <td>0.0</td>\n",
       "      <td>0.0</td>\n",
       "    </tr>\n",
       "    <tr>\n",
       "      <th>5</th>\n",
       "      <td>0.0</td>\n",
       "      <td>0.0</td>\n",
       "      <td>0.0</td>\n",
       "      <td>0.0</td>\n",
       "      <td>0.0</td>\n",
       "      <td>4.0</td>\n",
       "      <td>0.0</td>\n",
       "      <td>0.0</td>\n",
       "      <td>0.0</td>\n",
       "      <td>0.0</td>\n",
       "      <td>...</td>\n",
       "      <td>0.0</td>\n",
       "      <td>0.0</td>\n",
       "      <td>0.0</td>\n",
       "      <td>0.0</td>\n",
       "      <td>0.0</td>\n",
       "      <td>0.0</td>\n",
       "      <td>0.0</td>\n",
       "      <td>0.0</td>\n",
       "      <td>0.0</td>\n",
       "      <td>0.0</td>\n",
       "    </tr>\n",
       "  </tbody>\n",
       "</table>\n",
       "<p>5 rows × 1000 columns</p>\n",
       "</div>"
      ],
      "text/plain": [
       "book_id  1     2     3     4     5     6     7     8     9     10    ...  \\\n",
       "user_id                                                              ...   \n",
       "1         0.0   0.0   0.0   5.0   0.0   0.0   0.0   0.0   0.0   4.0  ...   \n",
       "2         0.0   5.0   0.0   0.0   5.0   0.0   0.0   4.0   0.0   5.0  ...   \n",
       "3         0.0   0.0   0.0   3.0   0.0   0.0   0.0   0.0   0.0   0.0  ...   \n",
       "4         0.0   5.0   0.0   4.0   4.0   0.0   4.0   4.0   0.0   5.0  ...   \n",
       "5         0.0   0.0   0.0   0.0   0.0   4.0   0.0   0.0   0.0   0.0  ...   \n",
       "\n",
       "book_id  991   992   993   994   995   996   997   998   999   1000  \n",
       "user_id                                                              \n",
       "1         0.0   0.0   0.0   0.0   0.0   0.0   0.0   0.0   0.0   0.0  \n",
       "2         0.0   0.0   0.0   0.0   0.0   0.0   0.0   0.0   0.0   0.0  \n",
       "3         0.0   0.0   0.0   0.0   0.0   0.0   0.0   0.0   0.0   0.0  \n",
       "4         0.0   0.0   0.0   0.0   0.0   0.0   0.0   0.0   0.0   0.0  \n",
       "5         0.0   0.0   0.0   0.0   0.0   0.0   0.0   0.0   0.0   0.0  \n",
       "\n",
       "[5 rows x 1000 columns]"
      ]
     },
     "execution_count": 88,
     "metadata": {},
     "output_type": "execute_result"
    }
   ],
   "source": [
    "ratings_df = ratings.pivot(index = 'user_id', columns ='book_id', values = 'rating').fillna(0)\n",
    "ratings_df.head()"
   ]
  },
  {
   "cell_type": "code",
   "execution_count": 91,
   "id": "1c8de0fe",
   "metadata": {},
   "outputs": [
    {
     "data": {
      "text/plain": [
       "pandas.core.frame.DataFrame"
      ]
     },
     "execution_count": 91,
     "metadata": {},
     "output_type": "execute_result"
    }
   ],
   "source": [
    "type(ratings_df)"
   ]
  },
  {
   "cell_type": "code",
   "execution_count": 92,
   "id": "b2b7ce1f",
   "metadata": {},
   "outputs": [
    {
     "data": {
      "text/plain": [
       "array([[-0.299, -0.299, -0.299, ..., -0.299, -0.299, -0.299],\n",
       "       [-0.187,  4.813, -0.187, ..., -0.187, -0.187, -0.187],\n",
       "       [-0.08 , -0.08 , -0.08 , ..., -0.08 , -0.08 , -0.08 ],\n",
       "       ...,\n",
       "       [ 3.633,  4.633, -0.367, ..., -0.367, -0.367, -0.367],\n",
       "       [ 3.782,  4.782, -0.218, ..., -0.218, -0.218, -0.218],\n",
       "       [ 3.608,  4.608,  3.608, ..., -0.392, -0.392, -0.392]])"
      ]
     },
     "execution_count": 92,
     "metadata": {},
     "output_type": "execute_result"
    }
   ],
   "source": [
    "ratings_matrix = ratings_df.values\n",
    "user_ratings_mean = np.mean(ratings_matrix, axis = 1)\n",
    "ratings_demeaned = ratings_matrix - user_ratings_mean.reshape(-1, 1)\n",
    "ratings_demeaned"
   ]
  },
  {
   "cell_type": "code",
   "execution_count": 93,
   "id": "979b398f",
   "metadata": {},
   "outputs": [],
   "source": [
    "U, sigma, Vt = svds(ratings_demeaned, k = 50)\n",
    "sigma = np.diag(sigma)"
   ]
  },
  {
   "cell_type": "code",
   "execution_count": 94,
   "id": "6edf8571",
   "metadata": {},
   "outputs": [],
   "source": [
    "books = pd.read_csv('books_enriched.csv')"
   ]
  },
  {
   "cell_type": "code",
   "execution_count": 96,
   "id": "5924802f",
   "metadata": {},
   "outputs": [
    {
     "data": {
      "text/html": [
       "<div>\n",
       "<style scoped>\n",
       "    .dataframe tbody tr th:only-of-type {\n",
       "        vertical-align: middle;\n",
       "    }\n",
       "\n",
       "    .dataframe tbody tr th {\n",
       "        vertical-align: top;\n",
       "    }\n",
       "\n",
       "    .dataframe thead th {\n",
       "        text-align: right;\n",
       "    }\n",
       "</style>\n",
       "<table border=\"1\" class=\"dataframe\">\n",
       "  <thead>\n",
       "    <tr style=\"text-align: right;\">\n",
       "      <th>book_id</th>\n",
       "      <th>1</th>\n",
       "      <th>2</th>\n",
       "      <th>3</th>\n",
       "      <th>4</th>\n",
       "      <th>5</th>\n",
       "      <th>6</th>\n",
       "      <th>7</th>\n",
       "      <th>8</th>\n",
       "      <th>9</th>\n",
       "      <th>10</th>\n",
       "      <th>...</th>\n",
       "      <th>991</th>\n",
       "      <th>992</th>\n",
       "      <th>993</th>\n",
       "      <th>994</th>\n",
       "      <th>995</th>\n",
       "      <th>996</th>\n",
       "      <th>997</th>\n",
       "      <th>998</th>\n",
       "      <th>999</th>\n",
       "      <th>1000</th>\n",
       "    </tr>\n",
       "  </thead>\n",
       "  <tbody>\n",
       "    <tr>\n",
       "      <th>0</th>\n",
       "      <td>0.562530</td>\n",
       "      <td>0.039058</td>\n",
       "      <td>0.336731</td>\n",
       "      <td>4.490657</td>\n",
       "      <td>1.306095</td>\n",
       "      <td>0.130741</td>\n",
       "      <td>-0.291228</td>\n",
       "      <td>0.841639</td>\n",
       "      <td>-0.095655</td>\n",
       "      <td>4.109357</td>\n",
       "      <td>...</td>\n",
       "      <td>-0.173435</td>\n",
       "      <td>0.035977</td>\n",
       "      <td>0.173243</td>\n",
       "      <td>0.091241</td>\n",
       "      <td>-0.056053</td>\n",
       "      <td>-0.114915</td>\n",
       "      <td>0.163413</td>\n",
       "      <td>0.016129</td>\n",
       "      <td>-0.188922</td>\n",
       "      <td>0.027756</td>\n",
       "    </tr>\n",
       "    <tr>\n",
       "      <th>1</th>\n",
       "      <td>-0.131900</td>\n",
       "      <td>3.927949</td>\n",
       "      <td>0.130357</td>\n",
       "      <td>0.604686</td>\n",
       "      <td>3.933939</td>\n",
       "      <td>0.631152</td>\n",
       "      <td>0.933018</td>\n",
       "      <td>2.939353</td>\n",
       "      <td>0.928644</td>\n",
       "      <td>3.071347</td>\n",
       "      <td>...</td>\n",
       "      <td>0.050231</td>\n",
       "      <td>0.006197</td>\n",
       "      <td>-0.057349</td>\n",
       "      <td>0.296309</td>\n",
       "      <td>-0.018283</td>\n",
       "      <td>-0.080365</td>\n",
       "      <td>0.047163</td>\n",
       "      <td>-0.164377</td>\n",
       "      <td>-0.107496</td>\n",
       "      <td>-0.036869</td>\n",
       "    </tr>\n",
       "    <tr>\n",
       "      <th>2</th>\n",
       "      <td>-0.058621</td>\n",
       "      <td>0.384616</td>\n",
       "      <td>-0.112782</td>\n",
       "      <td>2.529222</td>\n",
       "      <td>0.274402</td>\n",
       "      <td>-0.370661</td>\n",
       "      <td>0.023508</td>\n",
       "      <td>0.377284</td>\n",
       "      <td>-0.201316</td>\n",
       "      <td>0.244605</td>\n",
       "      <td>...</td>\n",
       "      <td>-0.015949</td>\n",
       "      <td>0.031716</td>\n",
       "      <td>-0.008392</td>\n",
       "      <td>0.164151</td>\n",
       "      <td>0.013430</td>\n",
       "      <td>0.075594</td>\n",
       "      <td>0.050813</td>\n",
       "      <td>0.020609</td>\n",
       "      <td>0.089849</td>\n",
       "      <td>0.033005</td>\n",
       "    </tr>\n",
       "    <tr>\n",
       "      <th>3</th>\n",
       "      <td>-0.326879</td>\n",
       "      <td>4.405513</td>\n",
       "      <td>-0.270238</td>\n",
       "      <td>4.188534</td>\n",
       "      <td>3.412186</td>\n",
       "      <td>-0.177725</td>\n",
       "      <td>3.597021</td>\n",
       "      <td>4.449749</td>\n",
       "      <td>1.915377</td>\n",
       "      <td>3.467479</td>\n",
       "      <td>...</td>\n",
       "      <td>-0.083879</td>\n",
       "      <td>0.001787</td>\n",
       "      <td>-0.054068</td>\n",
       "      <td>0.198673</td>\n",
       "      <td>-0.072370</td>\n",
       "      <td>-0.046966</td>\n",
       "      <td>0.141512</td>\n",
       "      <td>0.145222</td>\n",
       "      <td>0.466043</td>\n",
       "      <td>-0.093702</td>\n",
       "    </tr>\n",
       "    <tr>\n",
       "      <th>4</th>\n",
       "      <td>-0.082435</td>\n",
       "      <td>0.409065</td>\n",
       "      <td>0.039190</td>\n",
       "      <td>-0.227297</td>\n",
       "      <td>0.219731</td>\n",
       "      <td>2.013848</td>\n",
       "      <td>0.164598</td>\n",
       "      <td>0.132285</td>\n",
       "      <td>0.115856</td>\n",
       "      <td>0.305065</td>\n",
       "      <td>...</td>\n",
       "      <td>0.388934</td>\n",
       "      <td>0.003997</td>\n",
       "      <td>0.314296</td>\n",
       "      <td>0.033253</td>\n",
       "      <td>0.157176</td>\n",
       "      <td>-0.022660</td>\n",
       "      <td>0.030217</td>\n",
       "      <td>0.095176</td>\n",
       "      <td>0.060850</td>\n",
       "      <td>0.140103</td>\n",
       "    </tr>\n",
       "    <tr>\n",
       "      <th>...</th>\n",
       "      <td>...</td>\n",
       "      <td>...</td>\n",
       "      <td>...</td>\n",
       "      <td>...</td>\n",
       "      <td>...</td>\n",
       "      <td>...</td>\n",
       "      <td>...</td>\n",
       "      <td>...</td>\n",
       "      <td>...</td>\n",
       "      <td>...</td>\n",
       "      <td>...</td>\n",
       "      <td>...</td>\n",
       "      <td>...</td>\n",
       "      <td>...</td>\n",
       "      <td>...</td>\n",
       "      <td>...</td>\n",
       "      <td>...</td>\n",
       "      <td>...</td>\n",
       "      <td>...</td>\n",
       "      <td>...</td>\n",
       "      <td>...</td>\n",
       "    </tr>\n",
       "    <tr>\n",
       "      <th>53412</th>\n",
       "      <td>5.342096</td>\n",
       "      <td>4.368070</td>\n",
       "      <td>4.985015</td>\n",
       "      <td>-0.157098</td>\n",
       "      <td>1.753917</td>\n",
       "      <td>-0.087155</td>\n",
       "      <td>2.482910</td>\n",
       "      <td>1.130362</td>\n",
       "      <td>3.360672</td>\n",
       "      <td>2.831292</td>\n",
       "      <td>...</td>\n",
       "      <td>0.133430</td>\n",
       "      <td>0.022256</td>\n",
       "      <td>0.023925</td>\n",
       "      <td>-0.025396</td>\n",
       "      <td>0.023487</td>\n",
       "      <td>0.380328</td>\n",
       "      <td>0.150213</td>\n",
       "      <td>-0.048335</td>\n",
       "      <td>-0.021357</td>\n",
       "      <td>0.253770</td>\n",
       "    </tr>\n",
       "    <tr>\n",
       "      <th>53413</th>\n",
       "      <td>4.500377</td>\n",
       "      <td>4.328131</td>\n",
       "      <td>0.296164</td>\n",
       "      <td>4.581306</td>\n",
       "      <td>2.554959</td>\n",
       "      <td>0.500129</td>\n",
       "      <td>4.385892</td>\n",
       "      <td>1.608501</td>\n",
       "      <td>5.162153</td>\n",
       "      <td>0.506380</td>\n",
       "      <td>...</td>\n",
       "      <td>-0.047212</td>\n",
       "      <td>-0.005667</td>\n",
       "      <td>-0.076918</td>\n",
       "      <td>0.239460</td>\n",
       "      <td>0.061692</td>\n",
       "      <td>0.038998</td>\n",
       "      <td>0.477560</td>\n",
       "      <td>0.017348</td>\n",
       "      <td>0.063003</td>\n",
       "      <td>0.053475</td>\n",
       "    </tr>\n",
       "    <tr>\n",
       "      <th>53414</th>\n",
       "      <td>4.478870</td>\n",
       "      <td>5.229558</td>\n",
       "      <td>0.423412</td>\n",
       "      <td>-0.138217</td>\n",
       "      <td>0.829215</td>\n",
       "      <td>1.425843</td>\n",
       "      <td>5.130339</td>\n",
       "      <td>0.458289</td>\n",
       "      <td>0.331311</td>\n",
       "      <td>1.944977</td>\n",
       "      <td>...</td>\n",
       "      <td>-0.235085</td>\n",
       "      <td>-0.037030</td>\n",
       "      <td>-0.024666</td>\n",
       "      <td>0.066962</td>\n",
       "      <td>-0.064705</td>\n",
       "      <td>0.074322</td>\n",
       "      <td>0.106571</td>\n",
       "      <td>0.078574</td>\n",
       "      <td>-0.146453</td>\n",
       "      <td>-0.042549</td>\n",
       "    </tr>\n",
       "    <tr>\n",
       "      <th>53415</th>\n",
       "      <td>1.859418</td>\n",
       "      <td>4.694752</td>\n",
       "      <td>0.415758</td>\n",
       "      <td>4.521455</td>\n",
       "      <td>2.020852</td>\n",
       "      <td>0.891956</td>\n",
       "      <td>2.227580</td>\n",
       "      <td>1.937688</td>\n",
       "      <td>-0.025534</td>\n",
       "      <td>0.506428</td>\n",
       "      <td>...</td>\n",
       "      <td>0.058452</td>\n",
       "      <td>0.018266</td>\n",
       "      <td>-0.037825</td>\n",
       "      <td>0.055566</td>\n",
       "      <td>0.075765</td>\n",
       "      <td>0.016727</td>\n",
       "      <td>-0.089453</td>\n",
       "      <td>0.256880</td>\n",
       "      <td>0.209920</td>\n",
       "      <td>0.016867</td>\n",
       "    </tr>\n",
       "    <tr>\n",
       "      <th>53416</th>\n",
       "      <td>4.211682</td>\n",
       "      <td>3.930230</td>\n",
       "      <td>3.048329</td>\n",
       "      <td>4.590672</td>\n",
       "      <td>1.728943</td>\n",
       "      <td>0.698376</td>\n",
       "      <td>4.488919</td>\n",
       "      <td>0.569289</td>\n",
       "      <td>-0.669792</td>\n",
       "      <td>3.750195</td>\n",
       "      <td>...</td>\n",
       "      <td>-0.046161</td>\n",
       "      <td>0.205463</td>\n",
       "      <td>-0.081422</td>\n",
       "      <td>0.263934</td>\n",
       "      <td>-0.174315</td>\n",
       "      <td>0.190021</td>\n",
       "      <td>0.634580</td>\n",
       "      <td>0.448637</td>\n",
       "      <td>0.550418</td>\n",
       "      <td>0.078344</td>\n",
       "    </tr>\n",
       "  </tbody>\n",
       "</table>\n",
       "<p>53417 rows × 1000 columns</p>\n",
       "</div>"
      ],
      "text/plain": [
       "book_id      1         2         3         4         5         6         7     \\\n",
       "0        0.562530  0.039058  0.336731  4.490657  1.306095  0.130741 -0.291228   \n",
       "1       -0.131900  3.927949  0.130357  0.604686  3.933939  0.631152  0.933018   \n",
       "2       -0.058621  0.384616 -0.112782  2.529222  0.274402 -0.370661  0.023508   \n",
       "3       -0.326879  4.405513 -0.270238  4.188534  3.412186 -0.177725  3.597021   \n",
       "4       -0.082435  0.409065  0.039190 -0.227297  0.219731  2.013848  0.164598   \n",
       "...           ...       ...       ...       ...       ...       ...       ...   \n",
       "53412    5.342096  4.368070  4.985015 -0.157098  1.753917 -0.087155  2.482910   \n",
       "53413    4.500377  4.328131  0.296164  4.581306  2.554959  0.500129  4.385892   \n",
       "53414    4.478870  5.229558  0.423412 -0.138217  0.829215  1.425843  5.130339   \n",
       "53415    1.859418  4.694752  0.415758  4.521455  2.020852  0.891956  2.227580   \n",
       "53416    4.211682  3.930230  3.048329  4.590672  1.728943  0.698376  4.488919   \n",
       "\n",
       "book_id      8         9         10    ...      991       992       993   \\\n",
       "0        0.841639 -0.095655  4.109357  ... -0.173435  0.035977  0.173243   \n",
       "1        2.939353  0.928644  3.071347  ...  0.050231  0.006197 -0.057349   \n",
       "2        0.377284 -0.201316  0.244605  ... -0.015949  0.031716 -0.008392   \n",
       "3        4.449749  1.915377  3.467479  ... -0.083879  0.001787 -0.054068   \n",
       "4        0.132285  0.115856  0.305065  ...  0.388934  0.003997  0.314296   \n",
       "...           ...       ...       ...  ...       ...       ...       ...   \n",
       "53412    1.130362  3.360672  2.831292  ...  0.133430  0.022256  0.023925   \n",
       "53413    1.608501  5.162153  0.506380  ... -0.047212 -0.005667 -0.076918   \n",
       "53414    0.458289  0.331311  1.944977  ... -0.235085 -0.037030 -0.024666   \n",
       "53415    1.937688 -0.025534  0.506428  ...  0.058452  0.018266 -0.037825   \n",
       "53416    0.569289 -0.669792  3.750195  ... -0.046161  0.205463 -0.081422   \n",
       "\n",
       "book_id      994       995       996       997       998       999       1000  \n",
       "0        0.091241 -0.056053 -0.114915  0.163413  0.016129 -0.188922  0.027756  \n",
       "1        0.296309 -0.018283 -0.080365  0.047163 -0.164377 -0.107496 -0.036869  \n",
       "2        0.164151  0.013430  0.075594  0.050813  0.020609  0.089849  0.033005  \n",
       "3        0.198673 -0.072370 -0.046966  0.141512  0.145222  0.466043 -0.093702  \n",
       "4        0.033253  0.157176 -0.022660  0.030217  0.095176  0.060850  0.140103  \n",
       "...           ...       ...       ...       ...       ...       ...       ...  \n",
       "53412   -0.025396  0.023487  0.380328  0.150213 -0.048335 -0.021357  0.253770  \n",
       "53413    0.239460  0.061692  0.038998  0.477560  0.017348  0.063003  0.053475  \n",
       "53414    0.066962 -0.064705  0.074322  0.106571  0.078574 -0.146453 -0.042549  \n",
       "53415    0.055566  0.075765  0.016727 -0.089453  0.256880  0.209920  0.016867  \n",
       "53416    0.263934 -0.174315  0.190021  0.634580  0.448637  0.550418  0.078344  \n",
       "\n",
       "[53417 rows x 1000 columns]"
      ]
     },
     "execution_count": 96,
     "metadata": {},
     "output_type": "execute_result"
    }
   ],
   "source": [
    "all_user_predicted_ratings = np.dot(np.dot(U, sigma), Vt) + user_ratings_mean.reshape(-1, 1)\n",
    "preds_df = pd.DataFrame(all_user_predicted_ratings, columns = ratings_df.columns)\n",
    "preds_df"
   ]
  },
  {
   "cell_type": "code",
   "execution_count": 130,
   "id": "09f70744",
   "metadata": {},
   "outputs": [],
   "source": [
    "def recommend_books(predictions_df, userID, books_df, original_ratings_df, num_recommendations=5):\n",
    "    \n",
    "    # Get and sort the user's predictions\n",
    "    user_row_number = userID - 1 # UserID starts at 1, not 0\n",
    "    sorted_user_predictions = predictions_df.iloc[user_row_number].sort_values(ascending=False)\n",
    "    \n",
    "    # Get the user's data and merge in the book information.\n",
    "    user_data = original_ratings_df[original_ratings_df['user_id'] == (userID)]\n",
    "    user_full = (user_data.merge(books_df, how = 'left', left_on = 'book_id', right_on = 'book_id').\n",
    "                     sort_values(['rating'], ascending=False)\n",
    "                 )\n",
    "\n",
    "    print ('User {0} has already rated {1} books. The top 5 are:'.format(userID, user_full.shape[0]))\n",
    "    print (user_full['title'].head(5))\n",
    "    print ('Recommending the highest {0} predicted ratings books not already rated.'.format(num_recommendations))\n",
    "    \n",
    "    # Recommend the highest predicted rating book that the user hasn't seen yet.\n",
    "    recommendations = (books_df[~books_df['book_id'].isin(user_full['book_id'])].\n",
    "         merge(pd.DataFrame(sorted_user_predictions).reset_index(), how = 'left',\n",
    "               left_on = 'book_id',\n",
    "               right_on = 'book_id').\n",
    "         rename(columns = {user_row_number: 'Predictions'}).\n",
    "         sort_values('Predictions', ascending = False).\n",
    "                       iloc[:num_recommendations, :-1]\n",
    "                      )\n",
    "\n",
    "#    return user_full, recommendations\n",
    "    return recommendations[['book_id','title']]\n"
   ]
  },
  {
   "cell_type": "code",
   "execution_count": 132,
   "id": "7cb2b7d3",
   "metadata": {},
   "outputs": [
    {
     "name": "stdout",
     "output_type": "stream",
     "text": [
      "User 110 has already rated 38 books. The top 5 are:\n",
      "20                                    The Metamorphosis\n",
      "32                         The Adventures of Tom Sawyer\n",
      "3     Harry Potter and the Deathly Hallows (Harry Po...\n",
      "31                   The Adventures of Huckleberry Finn\n",
      "22                                            The Trial\n",
      "Name: title, dtype: object\n",
      "Recommending the highest 3 predicted ratings books not already rated.\n"
     ]
    },
    {
     "data": {
      "text/html": [
       "<div>\n",
       "<style scoped>\n",
       "    .dataframe tbody tr th:only-of-type {\n",
       "        vertical-align: middle;\n",
       "    }\n",
       "\n",
       "    .dataframe tbody tr th {\n",
       "        vertical-align: top;\n",
       "    }\n",
       "\n",
       "    .dataframe thead th {\n",
       "        text-align: right;\n",
       "    }\n",
       "</style>\n",
       "<table border=\"1\" class=\"dataframe\">\n",
       "  <thead>\n",
       "    <tr style=\"text-align: right;\">\n",
       "      <th></th>\n",
       "      <th>book_id</th>\n",
       "      <th>title</th>\n",
       "    </tr>\n",
       "  </thead>\n",
       "  <tbody>\n",
       "    <tr>\n",
       "      <th>16</th>\n",
       "      <td>23</td>\n",
       "      <td>Harry Potter and the Chamber of Secrets (Harry...</td>\n",
       "    </tr>\n",
       "    <tr>\n",
       "      <th>41</th>\n",
       "      <td>55</td>\n",
       "      <td>Brave New World</td>\n",
       "    </tr>\n",
       "    <tr>\n",
       "      <th>19</th>\n",
       "      <td>29</td>\n",
       "      <td>Romeo and Juliet</td>\n",
       "    </tr>\n",
       "  </tbody>\n",
       "</table>\n",
       "</div>"
      ],
      "text/plain": [
       "    book_id                                              title\n",
       "16       23  Harry Potter and the Chamber of Secrets (Harry...\n",
       "41       55                                    Brave New World\n",
       "19       29                                   Romeo and Juliet"
      ]
     },
     "execution_count": 132,
     "metadata": {},
     "output_type": "execute_result"
    }
   ],
   "source": [
    "recommend_books(preds_df, 110, books, ratings, 3)"
   ]
  },
  {
   "cell_type": "code",
   "execution_count": 136,
   "id": "a56a27da",
   "metadata": {},
   "outputs": [
    {
     "name": "stdout",
     "output_type": "stream",
     "text": [
      "User 980 has already rated 73 books. The top 5 are:\n",
      "0                       To Kill a Mockingbird\n",
      "52    The Hunger Games (The Hunger Games, #1)\n",
      "31                   A Thousand Splendid Suns\n",
      "39                            The Thorn Birds\n",
      "42                          The Kitchen House\n",
      "Name: title, dtype: object\n",
      "Recommending the highest 3 predicted ratings books not already rated.\n"
     ]
    },
    {
     "data": {
      "text/html": [
       "<div>\n",
       "<style scoped>\n",
       "    .dataframe tbody tr th:only-of-type {\n",
       "        vertical-align: middle;\n",
       "    }\n",
       "\n",
       "    .dataframe tbody tr th {\n",
       "        vertical-align: top;\n",
       "    }\n",
       "\n",
       "    .dataframe thead th {\n",
       "        text-align: right;\n",
       "    }\n",
       "</style>\n",
       "<table border=\"1\" class=\"dataframe\">\n",
       "  <thead>\n",
       "    <tr style=\"text-align: right;\">\n",
       "      <th></th>\n",
       "      <th>book_id</th>\n",
       "      <th>title</th>\n",
       "    </tr>\n",
       "  </thead>\n",
       "  <tbody>\n",
       "    <tr>\n",
       "      <th>17</th>\n",
       "      <td>33</td>\n",
       "      <td>Memoirs of a Geisha</td>\n",
       "    </tr>\n",
       "    <tr>\n",
       "      <th>10</th>\n",
       "      <td>20</td>\n",
       "      <td>Mockingjay (The Hunger Games, #3)</td>\n",
       "    </tr>\n",
       "    <tr>\n",
       "      <th>32</th>\n",
       "      <td>57</td>\n",
       "      <td>The Secret Life of Bees</td>\n",
       "    </tr>\n",
       "  </tbody>\n",
       "</table>\n",
       "</div>"
      ],
      "text/plain": [
       "    book_id                              title\n",
       "17       33                Memoirs of a Geisha\n",
       "10       20  Mockingjay (The Hunger Games, #3)\n",
       "32       57            The Secret Life of Bees"
      ]
     },
     "execution_count": 136,
     "metadata": {},
     "output_type": "execute_result"
    }
   ],
   "source": [
    "recommend_books(preds_df, 980, books, ratings, 3)"
   ]
  }
 ],
 "metadata": {
  "kernelspec": {
   "display_name": "Python 3 (ipykernel)",
   "language": "python",
   "name": "python3"
  },
  "language_info": {
   "codemirror_mode": {
    "name": "ipython",
    "version": 3
   },
   "file_extension": ".py",
   "mimetype": "text/x-python",
   "name": "python",
   "nbconvert_exporter": "python",
   "pygments_lexer": "ipython3",
   "version": "3.9.12"
  }
 },
 "nbformat": 4,
 "nbformat_minor": 5
}
